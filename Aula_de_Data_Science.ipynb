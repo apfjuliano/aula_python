{
  "nbformat": 4,
  "nbformat_minor": 0,
  "metadata": {
    "colab": {
      "name": "Aula de Data Science",
      "provenance": [],
      "collapsed_sections": [],
      "include_colab_link": true
    },
    "kernelspec": {
      "name": "python2",
      "display_name": "Python 2"
    }
  },
  "cells": [
    {
      "cell_type": "markdown",
      "metadata": {
        "id": "view-in-github",
        "colab_type": "text"
      },
      "source": [
        "<a href=\"https://colab.research.google.com/github/apfjuliano/aula_python/blob/master/Aula_de_Data_Science.ipynb\" target=\"_parent\"><img src=\"https://colab.research.google.com/assets/colab-badge.svg\" alt=\"Open In Colab\"/></a>"
      ]
    },
    {
      "cell_type": "code",
      "metadata": {
        "id": "liNjsGtH5BqP",
        "colab_type": "code",
        "colab": {
          "base_uri": "https://localhost:8080/",
          "height": 320
        },
        "outputId": "55cb80ab-f21b-4cab-f2b7-31860541622a"
      },
      "source": [
        "uri = \"https://raw.githubusercontent.com/alura-cursos/introducao-a-data-science/master/aula1.2/ratings.csv\"\n",
        "uri_notas = \"https://raw.githubusercontent.com/alura-cursos/introducao-a-data-science/master/aula4.3/ratings.csv\"\n",
        "import pandas as pd\n",
        "filmes = pd.read_csv(uri)\n",
        "notas = pd.read_csv(uri_notas)\n",
        "filmes.head()\n",
        "filmes.columns = [\"filmeId\", \"titulos\", \"generos\", \"momento\"]\n",
        "notas.columns = [\"usuarioId\", \"filmeId\", \"nota\", \"momento\"]\n",
        "notas[\"nota\"].head().unique()\n",
        "notas[\"nota\"].unique()\n",
        "notas[\"nota\"].max()\n",
        "notas.describe()\n",
        "print notas[\"nota\"].median() # mediana\n",
        "print notas[\"nota\"].mean() # media\n",
        "notas.nota.plot(kind='hist')"
      ],
      "execution_count": 29,
      "outputs": [
        {
          "output_type": "stream",
          "text": [
            "3.5\n",
            "3.501556983616962\n"
          ],
          "name": "stdout"
        },
        {
          "output_type": "execute_result",
          "data": {
            "text/plain": [
              "<matplotlib.axes._subplots.AxesSubplot at 0x7f8b5e2b2d50>"
            ]
          },
          "metadata": {
            "tags": []
          },
          "execution_count": 29
        },
        {
          "output_type": "display_data",
          "data": {
            "image/png": "[encoded data removed]",
            "text/plain": [
              "<Figure size 432x288 with 1 Axes>"
            ]
          },
          "metadata": {
            "tags": []
          }
        }
      ]
    },
    {
      "cell_type": "code",
      "metadata": {
        "id": "1bQLhRE26o3z",
        "colab_type": "code",
        "colab": {}
      },
      "source": [
        ""
      ],
      "execution_count": 0,
      "outputs": []
    }
  ]
}