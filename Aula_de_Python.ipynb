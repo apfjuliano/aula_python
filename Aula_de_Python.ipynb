{
  "nbformat": 4,
  "nbformat_minor": 0,
  "metadata": {
    "colab": {
      "name": "Aula de Python",
      "provenance": [],
      "collapsed_sections": [],
      "include_colab_link": true
    },
    "kernelspec": {
      "name": "python2",
      "display_name": "Python 2"
    }
  },
  "cells": [
    {
      "cell_type": "markdown",
      "metadata": {
        "id": "view-in-github",
        "colab_type": "text"
      },
      "source": [
        "<a href=\"https://colab.research.google.com/github/apfjuliano/aula_python/blob/master/Aula_de_Python.ipynb\" target=\"_parent\"><img src=\"https://colab.research.google.com/assets/colab-badge.svg\" alt=\"Open In Colab\"/></a>"
      ]
    },
    {
      "cell_type": "code",
      "metadata": {
        "id": "hzHsXJJAmxZb",
        "colab_type": "code",
        "colab": {}
      },
      "source": [
        "nome = \"Michael\"\n",
        "print(nome)\n",
        "nome"
      ],
      "execution_count": 0,
      "outputs": []
    },
    {
      "cell_type": "code",
      "metadata": {
        "id": "TmgjgDtOoqBH",
        "colab_type": "code",
        "colab": {
          "base_uri": "https://localhost:8080/",
          "height": 34
        },
        "outputId": "b0aaa4f2-1830-45ab-f474-37942fd3719c"
      },
      "source": [
        "idade = 37\n",
        "idade + 3"
      ],
      "execution_count": 8,
      "outputs": [
        {
          "output_type": "execute_result",
          "data": {
            "text/plain": [
              "40"
            ]
          },
          "metadata": {
            "tags": []
          },
          "execution_count": 8
        }
      ]
    },
    {
      "cell_type": "code",
      "metadata": {
        "id": "uB793jN1o9H2",
        "colab_type": "code",
        "colab": {}
      },
      "source": [
        "idade = idade + 3"
      ],
      "execution_count": 0,
      "outputs": []
    },
    {
      "cell_type": "code",
      "metadata": {
        "id": "WSyvRdZhpFOZ",
        "colab_type": "code",
        "colab": {
          "base_uri": "https://localhost:8080/",
          "height": 34
        },
        "outputId": "78f717fb-a804-40e8-d9b8-580564196d8e"
      },
      "source": [
        "idade"
      ],
      "execution_count": 11,
      "outputs": [
        {
          "output_type": "execute_result",
          "data": {
            "text/plain": [
              "40"
            ]
          },
          "metadata": {
            "tags": []
          },
          "execution_count": 11
        }
      ]
    },
    {
      "cell_type": "code",
      "metadata": {
        "id": "Hx6MDbSCpHrv",
        "colab_type": "code",
        "colab": {
          "base_uri": "https://localhost:8080/",
          "height": 51
        },
        "outputId": "51d64c0f-a67c-46ad-f2d1-443916776f11"
      },
      "source": [
        "def mais_um_ano(idade): \n",
        "    print(\"ta dentro da função\")\n",
        "    return idade + 1\n",
        "mais_um_ano(34)\n"
      ],
      "execution_count": 13,
      "outputs": [
        {
          "output_type": "stream",
          "text": [
            "ta dentro da função\n"
          ],
          "name": "stdout"
        },
        {
          "output_type": "execute_result",
          "data": {
            "text/plain": [
              "35"
            ]
          },
          "metadata": {
            "tags": []
          },
          "execution_count": 13
        }
      ]
    },
    {
      "cell_type": "code",
      "metadata": {
        "id": "iZz3YkbbplPp",
        "colab_type": "code",
        "colab": {
          "base_uri": "https://localhost:8080/",
          "height": 34
        },
        "outputId": "0ba098d7-5622-4990-ec12-cefd973258e3"
      },
      "source": [
        "filme = [\"Toy Story\", \"Super Xuxa contra o Baixo Astral\", 1, list()]\n",
        "filme"
      ],
      "execution_count": 21,
      "outputs": [
        {
          "output_type": "execute_result",
          "data": {
            "text/plain": [
              "['Toy Story', 'Super Xuxa contra o Baixo Astral', 1, []]"
            ]
          },
          "metadata": {
            "tags": []
          },
          "execution_count": 21
        }
      ]
    },
    {
      "cell_type": "code",
      "metadata": {
        "id": "47LHomVdrIaM",
        "colab_type": "code",
        "colab": {
          "base_uri": "https://localhost:8080/",
          "height": 34
        },
        "outputId": "fc1107d8-0acf-4f3c-bbb7-ec7b9a9b9c2e"
      },
      "source": [
        "def imprime(f):\n",
        "  return f[1]\n",
        "imprime(filme)"
      ],
      "execution_count": 29,
      "outputs": [
        {
          "output_type": "execute_result",
          "data": {
            "text/plain": [
              "'Super Xuxa contra o Baixo Astral'"
            ]
          },
          "metadata": {
            "tags": []
          },
          "execution_count": 29
        }
      ]
    },
    {
      "cell_type": "code",
      "metadata": {
        "id": "eqj1jneUrnSm",
        "colab_type": "code",
        "colab": {
          "base_uri": "https://localhost:8080/",
          "height": 34
        },
        "outputId": "31b29ef0-0e67-4f51-94ba-c5d4d5268382"
      },
      "source": [
        "filme[-2:]\n",
        "imprime(filme[-2:])"
      ],
      "execution_count": 30,
      "outputs": [
        {
          "output_type": "execute_result",
          "data": {
            "text/plain": [
              "[]"
            ]
          },
          "metadata": {
            "tags": []
          },
          "execution_count": 30
        }
      ]
    },
    {
      "cell_type": "code",
      "metadata": {
        "id": "oSN3PKXvsoSl",
        "colab_type": "code",
        "colab": {
          "base_uri": "https://localhost:8080/",
          "height": 85
        },
        "outputId": "f8d0ad40-b5b3-4316-d6f6-f7df3a7f5533"
      },
      "source": [
        "for f in filme:\n",
        "  print(f)"
      ],
      "execution_count": 31,
      "outputs": [
        {
          "output_type": "stream",
          "text": [
            "Toy Story\n",
            "Super Xuxa contra o Baixo Astral\n",
            "1\n",
            "[]\n"
          ],
          "name": "stdout"
        }
      ]
    },
    {
      "cell_type": "code",
      "metadata": {
        "id": "unjqt2j7tsOj",
        "colab_type": "code",
        "colab": {}
      },
      "source": [
        "def imprime(f):\n",
        "  for filme in f:\n",
        "    print(filme)"
      ],
      "execution_count": 0,
      "outputs": []
    },
    {
      "cell_type": "code",
      "metadata": {
        "id": "Vd6i5na-uGP6",
        "colab_type": "code",
        "colab": {
          "base_uri": "https://localhost:8080/",
          "height": 85
        },
        "outputId": "64cf7a60-2d22-4642-ef90-4d405f7a7553"
      },
      "source": [
        "imprime(filme)"
      ],
      "execution_count": 33,
      "outputs": [
        {
          "output_type": "stream",
          "text": [
            "Toy Story\n",
            "Super Xuxa contra o Baixo Astral\n",
            "1\n",
            "[]\n"
          ],
          "name": "stdout"
        }
      ]
    },
    {
      "cell_type": "code",
      "metadata": {
        "id": "xOCElBBcuIxf",
        "colab_type": "code",
        "colab": {}
      },
      "source": [
        "empresa = \"empresa\"\n",
        "dados = {\"nome\":\"Juliano\", \"idade\":43, empresa: \"dpf\"}"
      ],
      "execution_count": 0,
      "outputs": []
    },
    {
      "cell_type": "code",
      "metadata": {
        "id": "q7dvPAlou3zp",
        "colab_type": "code",
        "colab": {
          "base_uri": "https://localhost:8080/",
          "height": 34
        },
        "outputId": "f9b5067b-2874-4652-8ffd-0255f0908575"
      },
      "source": [
        "dados"
      ],
      "execution_count": 40,
      "outputs": [
        {
          "output_type": "execute_result",
          "data": {
            "text/plain": [
              "{'empresa': 'dpf', 'idade': 43, 'nome': 'Juliano'}"
            ]
          },
          "metadata": {
            "tags": []
          },
          "execution_count": 40
        }
      ]
    },
    {
      "cell_type": "code",
      "metadata": {
        "id": "EW8Pn7anu4sk",
        "colab_type": "code",
        "colab": {
          "base_uri": "https://localhost:8080/",
          "height": 34
        },
        "outputId": "f759259a-be8c-4eb8-b493-550a31c1faf9"
      },
      "source": [
        "dados[empresa]"
      ],
      "execution_count": 41,
      "outputs": [
        {
          "output_type": "execute_result",
          "data": {
            "text/plain": [
              "'dpf'"
            ]
          },
          "metadata": {
            "tags": []
          },
          "execution_count": 41
        }
      ]
    },
    {
      "cell_type": "code",
      "metadata": {
        "id": "kjZme7bgu7DX",
        "colab_type": "code",
        "colab": {}
      },
      "source": [
        ""
      ],
      "execution_count": 0,
      "outputs": []
    }
  ]
}